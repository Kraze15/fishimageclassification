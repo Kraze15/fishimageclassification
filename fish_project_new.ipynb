{
  "cells": [
    {
      "cell_type": "code",
      "execution_count": null,
      "metadata": {
        "id": "glNNju32RD60"
      },
      "outputs": [],
      "source": [
        "import os\n",
        "import tensorflow as tf\n",
        "from tensorflow.keras.applications.mobilenet_v2 import MobileNetV2,preprocess_input\n",
        "from tensorflow.keras.layers import Dense,Conv2D,GlobalAvgPool2D,Input\n",
        "from tensorflow.keras.preprocessing.image import load_img,ImageDataGenerator\n",
        "from tensorflow.keras import callbacks,optimizers\n",
        "import numpy as np\n",
        "from google.colab import drive"
      ]
    },
    {
      "cell_type": "code",
      "execution_count": null,
      "metadata": {
        "id": "AGlFsZ7JRFl9",
        "outputId": "4e5cb332-8c1c-4cd5-f8fb-56b7e4c2196a",
        "colab": {
          "base_uri": "https://localhost:8080/"
        }
      },
      "outputs": [
        {
          "output_type": "stream",
          "name": "stdout",
          "text": [
            "Drive already mounted at /content/drive; to attempt to forcibly remount, call drive.mount(\"/content/drive\", force_remount=True).\n"
          ]
        }
      ],
      "source": [
        "drive.mount('/content/drive')"
      ]
    },
    {
      "cell_type": "code",
      "execution_count": null,
      "metadata": {
        "colab": {
          "base_uri": "https://localhost:8080/"
        },
        "id": "6oTvhPqiRFuo",
        "outputId": "9a17ac68-300f-4f23-8024-a1fc7c3eb98a"
      },
      "outputs": [
        {
          "output_type": "stream",
          "name": "stdout",
          "text": [
            "[Errno 2] No such file or directory: 'drive/MyDrive/Dog_classification/'\n",
            "/content/drive/MyDrive/Dog_pro\n"
          ]
        }
      ],
      "source": [
        "%cd drive/MyDrive/Dog_classification/"
      ]
    },
    {
      "cell_type": "code",
      "execution_count": null,
      "metadata": {
        "id": "8oUCJaUQRFxu"
      },
      "outputs": [],
      "source": [
        "!unzip Dog_Dataset.zip"
      ]
    },
    {
      "cell_type": "code",
      "execution_count": null,
      "metadata": {
        "id": "AGOCPK-rRF0v"
      },
      "outputs": [],
      "source": [
        "os.listdir(\"Dog_Dataset\")"
      ]
    },
    {
      "cell_type": "code",
      "execution_count": null,
      "metadata": {
        "id": "h8FfgREhRF3m"
      },
      "outputs": [],
      "source": [
        "!ls Dog_Dataset/"
      ]
    },
    {
      "cell_type": "code",
      "execution_count": null,
      "metadata": {
        "id": "v-KKTYXJRF58"
      },
      "outputs": [],
      "source": [
        "for i in os.listdir(\"Dog_Dataset\"):\n",
        "  print(i,len(os.listdir(\"Dog_Dataset/\"+i)))"
      ]
    },
    {
      "cell_type": "code",
      "execution_count": null,
      "metadata": {
        "id": "EPqYzR1FRF8V"
      },
      "outputs": [],
      "source": [
        "try:\n",
        "  os.mkdir(\"train\")\n",
        "  os.mkdir(\"test\")\n",
        "except:\n",
        "  pass\n",
        "for i in os.listdir(\"Dog_Dataset\"):\n",
        "  try:\n",
        "    os.mkdir(\"train/\"+i)\n",
        "    os.mkdir(\"test/\"+i)\n",
        "  except:\n",
        "    pass\n",
        "  for j in os.listdir(\"Dog_Dataset/\"+i)[:1000]:\n",
        "    os.rename(\"Dog_Dataset/\"+i+\"/\"+j,\"train/\"+i+\"/\"+j)\n",
        "  for j in os.listdir(\"Dog_Dataset/\"+i)[:400]:\n",
        "    os.rename(\"Dog_Dataset/\"+i+\"/\"+j,\"test/\"+i+\"/\"+j)"
      ]
    },
    {
      "cell_type": "code",
      "source": [
        "for i in os.listdir(\"test\"):\n",
        "  print(i,len(os.listdir(\"test/\"+i)))"
      ],
      "metadata": {
        "colab": {
          "base_uri": "https://localhost:8080/"
        },
        "id": "5AeiHReoyI1w",
        "outputId": "1c389727-3204-4d8e-b197-1913d77d6726"
      },
      "execution_count": null,
      "outputs": [
        {
          "output_type": "stream",
          "name": "stdout",
          "text": [
            "001.Affenpinscher 19\n",
            "002.Afghan_hound 15\n",
            "003.Airedale_terrier 15\n",
            "004.Akita 18\n",
            "005.Alaskan_malamute 32\n",
            "006.American_eskimo_dog 19\n",
            "007.American_foxhound 15\n",
            "008.American_staffordshire_terrier 21\n",
            "009.American_water_spaniel 0\n",
            "010.Anatolian_shepherd_dog 15\n",
            "011.Australian_cattle_dog 21\n",
            "012.Australian_shepherd 21\n",
            "013.Australian_terrier 11\n",
            "014.Basenji 24\n",
            "015.Basset_hound 28\n",
            "016.Beagle 15\n",
            "017.Bearded_collie 17\n",
            "018.Beauceron 15\n",
            "019.Bedlington_terrier 13\n",
            "020.Belgian_malinois 17\n",
            "021.Belgian_sheepdog 19\n",
            "022.Belgian_tervuren 12\n",
            "023.Bernese_mountain_dog 20\n",
            "024.Bichon_frise 17\n",
            "025.Black_and_tan_coonhound 2\n",
            "026.Black_russian_terrier 6\n",
            "027.Bloodhound 19\n",
            "028.Bluetick_coonhound 0\n",
            "029.Border_collie 29\n",
            "030.Border_terrier 15\n",
            "031.Borzoi 15\n",
            "032.Boston_terrier 20\n",
            "033.Bouvier_des_flandres 10\n",
            "034.Boxer 19\n",
            "035.Boykin_spaniel 15\n",
            "036.Briard 20\n",
            "037.Brittany 15\n",
            "038.Brussels_griffon 15\n",
            "039.Bull_terrier 24\n",
            "040.Bulldog 15\n",
            "041.Bullmastiff 24\n",
            "042.Cairn_terrier 18\n",
            "043.Canaan_dog 15\n",
            "044.Cane_corso 19\n",
            "045.Cardigan_welsh_corgi 15\n",
            "046.Cavalier_king_charles_spaniel 22\n",
            "047.Chesapeake_bay_retriever 15\n",
            "048.Chihuahua 15\n",
            "049.Chinese_crested 15\n",
            "050.Chinese_shar-pei 15\n",
            "051.Chow_chow 17\n",
            "052.Clumber_spaniel 14\n",
            "053.Cocker_spaniel 12\n",
            "054.Collie 15\n",
            "055.Curly-coated_retriever 15\n",
            "056.Dachshund 20\n",
            "057.Dalmatian 26\n",
            "058.Dandie_dinmont_terrier 15\n",
            "059.Doberman_pinscher 12\n",
            "060.Dogue_de_bordeaux 15\n",
            "061.English_cocker_spaniel 16\n",
            "062.English_setter 15\n",
            "063.English_springer_spaniel 15\n",
            "064.English_toy_spaniel 4\n",
            "065.Entlebucher_mountain_dog 7\n",
            "066.Field_spaniel 0\n",
            "067.Finnish_spitz 0\n",
            "068.Flat-coated_retriever 18\n",
            "069.French_bulldog 15\n",
            "070.German_pinscher 12\n",
            "071.German_shepherd_dog 17\n",
            "072.German_shorthaired_pointer 13\n",
            "073.German_wirehaired_pointer 7\n",
            "074.Giant_schnauzer 6\n",
            "075.Glen_of_imaal_terrier 9\n",
            "076.Golden_retriever 19\n",
            "077.Gordon_setter 8\n",
            "078.Great_dane 5\n",
            "079.Great_pyrenees 15\n",
            "080.Greater_swiss_mountain_dog 11\n",
            "081.Greyhound 15\n",
            "082.Havanese 16\n",
            "083.Ibizan_hound 11\n",
            "084.Icelandic_sheepdog 15\n",
            "085.Irish_red_and_white_setter 2\n",
            "086.Irish_setter 15\n",
            "087.Irish_terrier 21\n",
            "088.Irish_water_spaniel 15\n",
            "089.Irish_wolfhound 15\n",
            "090.Italian_greyhound 15\n",
            "091.Japanese_chin 15\n",
            "092.Keeshond 9\n",
            "093.Kerry_blue_terrier 0\n",
            "094.Komondor 9\n",
            "095.Kuvasz 14\n",
            "096.Labrador_retriever 8\n",
            "097.Lakeland_terrier 15\n",
            "098.Leonberger 11\n",
            "099.Lhasa_apso 7\n",
            "100.Lowchen 0\n",
            "101.Maltese 13\n",
            "102.Manchester_terrier 0\n",
            "103.Mastiff 15\n",
            "104.Miniature_schnauzer 7\n",
            "105.Neapolitan_mastiff 0\n",
            "106.Newfoundland 15\n",
            "107.Norfolk_terrier 11\n",
            "108.Norwegian_buhund 0\n",
            "109.Norwegian_elkhound 10\n",
            "110.Norwegian_lundehund 0\n",
            "111.Norwich_terrier 9\n",
            "112.Nova_scotia_duck_tolling_retriever 15\n",
            "113.Old_english_sheepdog 4\n",
            "114.Otterhound 0\n",
            "115.Papillon 18\n",
            "116.Parson_russell_terrier 0\n",
            "117.Pekingese 13\n",
            "118.Pembroke_welsh_corgi 15\n",
            "119.Petit_basset_griffon_vendeen 0\n",
            "120.Pharaoh_hound 4\n",
            "121.Plott 0\n",
            "122.Pointer 0\n",
            "123.Pomeranian 9\n",
            "124.Poodle 15\n",
            "125.Portuguese_water_dog 0\n",
            "126.Saint_bernard 0\n",
            "127.Silky_terrier 6\n",
            "128.Smooth_fox_terrier 0\n",
            "129.Tibetan_mastiff 13\n",
            "130.Welsh_springer_spaniel 9\n",
            "131.Wirehaired_pointing_griffon 0\n",
            "132.Xoloitzcuintli 0\n",
            "133.Yorkshire_terrier 0\n"
          ]
        }
      ]
    },
    {
      "cell_type": "code",
      "execution_count": null,
      "metadata": {
        "id": "022dG0GfRF-4"
      },
      "outputs": [],
      "source": [
        "def img_Data(dir_path,target_size,batch,class_lst,preprocessing,):\n",
        "  if preprocessing:\n",
        "    gen_object =ImageDataGenerator(preprocessing_function=preprocessing)\n",
        "  else:\n",
        "    gen_object =ImageDataGenerator()\n",
        "\n",
        "  return(gen_object.flow_from_directory(dir_path,\n",
        "                                          target_size= target_size,\n",
        "                                          batch_size=batch,\n",
        "                                          class_mode='sparse',\n",
        "                                          classes=class_lst,\n",
        "                                          shuffle=True))"
      ]
    },
    {
      "cell_type": "code",
      "execution_count": null,
      "metadata": {
        "id": "Sg0bswjURGBW",
        "colab": {
          "base_uri": "https://localhost:8080/"
        },
        "outputId": "d5040b72-0594-49cd-bce1-48825ee53ad6"
      },
      "outputs": [
        {
          "output_type": "stream",
          "name": "stdout",
          "text": [
            "Found 6680 images belonging to 133 classes.\n",
            "Found 1633 images belonging to 133 classes.\n"
          ]
        }
      ],
      "source": [
        "train_data_gen =img_Data(\"train\",(224,224),500,os.listdir(\"train\"),preprocess_input)\n",
        "valid_data_gen =img_Data(\"test\",(224,224),500,os.listdir(\"test\"),preprocess_input)"
      ]
    },
    {
      "cell_type": "code",
      "execution_count": null,
      "metadata": {
        "id": "ZZL8uvYHRGEM",
        "colab": {
          "base_uri": "https://localhost:8080/"
        },
        "outputId": "412c56fa-b26a-425f-952e-63a1361129eb"
      },
      "outputs": [
        {
          "output_type": "stream",
          "name": "stdout",
          "text": [
            "Downloading data from https://storage.googleapis.com/tensorflow/keras-applications/mobilenet_v2/mobilenet_v2_weights_tf_dim_ordering_tf_kernels_1.0_224_no_top.h5\n",
            "9406464/9406464 [==============================] - 0s 0us/step\n"
          ]
        }
      ],
      "source": [
        "base_model=tf.keras.applications.mobilenet_v2.MobileNetV2(\n",
        "              input_shape=(224,224,3),\n",
        "              alpha=1.0,\n",
        "              include_top=False,\n",
        "              weights='imagenet',\n",
        "              input_tensor=None,\n",
        "              pooling=None,\n",
        "              classes=1000,\n",
        "              classifier_activation='softmax')"
      ]
    },
    {
      "cell_type": "code",
      "execution_count": null,
      "metadata": {
        "id": "rCD38V2UXSNi"
      },
      "outputs": [],
      "source": [
        "base_model.trainable=False"
      ]
    },
    {
      "cell_type": "code",
      "execution_count": null,
      "metadata": {
        "id": "MK2kATxcXSJ9"
      },
      "outputs": [],
      "source": [
        "model=tf.keras.models.Sequential()\n",
        "model.add(base_model)\n",
        "model.add(GlobalAvgPool2D())\n",
        "model.add(Dense(1024,activation='relu'))\n",
        "model.add(Dense(1024,activation='softmax'))\n",
        "\n",
        "model.compile(optimizer='adam',loss='sparse_categorical_crossentropy',\n",
        "              metrics=['accuracy'])"
      ]
    },
    {
      "cell_type": "code",
      "execution_count": null,
      "metadata": {
        "id": "mlqprmAnXSH0"
      },
      "outputs": [],
      "source": [
        "elst=callbacks.EarlyStopping(monitor='val_loss',patience=5,mode='min')\n",
        "save_ck=callbacks.ModelCheckpoint('.mdl_wt.hdf5',save_best_only=True,monitor='val_loss',mode='min')"
      ]
    },
    {
      "cell_type": "code",
      "execution_count": null,
      "metadata": {
        "id": "MVL6WAYjXSFM"
      },
      "outputs": [],
      "source": [
        "model.fit(train_data_gen,batch_size=500,validation_data=valid_data_gen,callbacks=[elst,save_ck],epochs=10)"
      ]
    },
    {
      "cell_type": "code",
      "source": [
        "import os\n",
        "from os import listdir\n",
        "from PIL import Image\n",
        "\n",
        "categ = ['Dog_Dataset', 'train', 'test']\n",
        "dataset = '/content/drive/MyDrive/Dog_pro'\n",
        "\n",
        "for cat in categ:\n",
        "  img_path = os.path.join(dataset, cat)\n",
        "  for foldername in listdir(img_path):\n",
        "    sign_path = os.path.join(img_path, foldername)\n",
        "    print(sign_path)\n",
        "    for sign in listdir(sign_path):\n",
        "      if sign.endswith('.jpg'):\n",
        "        try:\n",
        "          img = Image.open(os.path.join(sign_path, sign)) # open the image file\n",
        "          img.verify() # verify that it is, in fact an image\n",
        "        except (IOError, SyntaxError) as e:\n",
        "          print('Bad file:', sign)"
      ],
      "metadata": {
        "id": "_HbRyI-V1yam"
      },
      "execution_count": null,
      "outputs": []
    },
    {
      "cell_type": "code",
      "source": [
        "model.fit(train_data_gen,batch_size=500,validation_data=valid_data_gen,callbacks=[elst,save_ck],epochs=20)"
      ],
      "metadata": {
        "id": "GYMhaYocPS2v",
        "colab": {
          "base_uri": "https://localhost:8080/",
          "height": 1000
        },
        "outputId": "73a1dfc9-387e-4c64-bd43-c0dec097d833"
      },
      "execution_count": null,
      "outputs": [
        {
          "output_type": "stream",
          "name": "stdout",
          "text": [
            "Epoch 1/20\n",
            " 5/14 [=========>....................] - ETA: 3:07 - loss: 0.7213 - accuracy: 0.7944"
          ]
        },
        {
          "output_type": "error",
          "ename": "UnknownError",
          "evalue": "ignored",
          "traceback": [
            "\u001b[0;31m---------------------------------------------------------------------------\u001b[0m",
            "\u001b[0;31mUnknownError\u001b[0m                              Traceback (most recent call last)",
            "\u001b[0;32m<ipython-input-32-2ccc4ed55c95>\u001b[0m in \u001b[0;36m<module>\u001b[0;34m\u001b[0m\n\u001b[0;32m----> 1\u001b[0;31m \u001b[0mmodel\u001b[0m\u001b[0;34m.\u001b[0m\u001b[0mfit\u001b[0m\u001b[0;34m(\u001b[0m\u001b[0mtrain_data_gen\u001b[0m\u001b[0;34m,\u001b[0m\u001b[0mbatch_size\u001b[0m\u001b[0;34m=\u001b[0m\u001b[0;36m500\u001b[0m\u001b[0;34m,\u001b[0m\u001b[0mvalidation_data\u001b[0m\u001b[0;34m=\u001b[0m\u001b[0mvalid_data_gen\u001b[0m\u001b[0;34m,\u001b[0m\u001b[0mcallbacks\u001b[0m\u001b[0;34m=\u001b[0m\u001b[0;34m[\u001b[0m\u001b[0melst\u001b[0m\u001b[0;34m,\u001b[0m\u001b[0msave_ck\u001b[0m\u001b[0;34m]\u001b[0m\u001b[0;34m,\u001b[0m\u001b[0mepochs\u001b[0m\u001b[0;34m=\u001b[0m\u001b[0;36m20\u001b[0m\u001b[0;34m)\u001b[0m\u001b[0;34m\u001b[0m\u001b[0;34m\u001b[0m\u001b[0m\n\u001b[0m",
            "\u001b[0;32m/usr/local/lib/python3.8/dist-packages/keras/utils/traceback_utils.py\u001b[0m in \u001b[0;36merror_handler\u001b[0;34m(*args, **kwargs)\u001b[0m\n\u001b[1;32m     65\u001b[0m     \u001b[0;32mexcept\u001b[0m \u001b[0mException\u001b[0m \u001b[0;32mas\u001b[0m \u001b[0me\u001b[0m\u001b[0;34m:\u001b[0m  \u001b[0;31m# pylint: disable=broad-except\u001b[0m\u001b[0;34m\u001b[0m\u001b[0;34m\u001b[0m\u001b[0m\n\u001b[1;32m     66\u001b[0m       \u001b[0mfiltered_tb\u001b[0m \u001b[0;34m=\u001b[0m \u001b[0m_process_traceback_frames\u001b[0m\u001b[0;34m(\u001b[0m\u001b[0me\u001b[0m\u001b[0;34m.\u001b[0m\u001b[0m__traceback__\u001b[0m\u001b[0;34m)\u001b[0m\u001b[0;34m\u001b[0m\u001b[0;34m\u001b[0m\u001b[0m\n\u001b[0;32m---> 67\u001b[0;31m       \u001b[0;32mraise\u001b[0m \u001b[0me\u001b[0m\u001b[0;34m.\u001b[0m\u001b[0mwith_traceback\u001b[0m\u001b[0;34m(\u001b[0m\u001b[0mfiltered_tb\u001b[0m\u001b[0;34m)\u001b[0m \u001b[0;32mfrom\u001b[0m \u001b[0;32mNone\u001b[0m\u001b[0;34m\u001b[0m\u001b[0;34m\u001b[0m\u001b[0m\n\u001b[0m\u001b[1;32m     68\u001b[0m     \u001b[0;32mfinally\u001b[0m\u001b[0;34m:\u001b[0m\u001b[0;34m\u001b[0m\u001b[0;34m\u001b[0m\u001b[0m\n\u001b[1;32m     69\u001b[0m       \u001b[0;32mdel\u001b[0m \u001b[0mfiltered_tb\u001b[0m\u001b[0;34m\u001b[0m\u001b[0;34m\u001b[0m\u001b[0m\n",
            "\u001b[0;32m/usr/local/lib/python3.8/dist-packages/tensorflow/python/eager/execute.py\u001b[0m in \u001b[0;36mquick_execute\u001b[0;34m(op_name, num_outputs, inputs, attrs, ctx, name)\u001b[0m\n\u001b[1;32m     52\u001b[0m   \u001b[0;32mtry\u001b[0m\u001b[0;34m:\u001b[0m\u001b[0;34m\u001b[0m\u001b[0;34m\u001b[0m\u001b[0m\n\u001b[1;32m     53\u001b[0m     \u001b[0mctx\u001b[0m\u001b[0;34m.\u001b[0m\u001b[0mensure_initialized\u001b[0m\u001b[0;34m(\u001b[0m\u001b[0;34m)\u001b[0m\u001b[0;34m\u001b[0m\u001b[0;34m\u001b[0m\u001b[0m\n\u001b[0;32m---> 54\u001b[0;31m     tensors = pywrap_tfe.TFE_Py_Execute(ctx._handle, device_name, op_name,\n\u001b[0m\u001b[1;32m     55\u001b[0m                                         inputs, attrs, num_outputs)\n\u001b[1;32m     56\u001b[0m   \u001b[0;32mexcept\u001b[0m \u001b[0mcore\u001b[0m\u001b[0;34m.\u001b[0m\u001b[0m_NotOkStatusException\u001b[0m \u001b[0;32mas\u001b[0m \u001b[0me\u001b[0m\u001b[0;34m:\u001b[0m\u001b[0;34m\u001b[0m\u001b[0;34m\u001b[0m\u001b[0m\n",
            "\u001b[0;31mUnknownError\u001b[0m: Graph execution error:\n\nOSError: image file is truncated (150 bytes not processed)\nTraceback (most recent call last):\n\n  File \"/usr/local/lib/python3.8/dist-packages/tensorflow/python/ops/script_ops.py\", line 270, in __call__\n    ret = func(*args)\n\n  File \"/usr/local/lib/python3.8/dist-packages/tensorflow/python/autograph/impl/api.py\", line 642, in wrapper\n    return func(*args, **kwargs)\n\n  File \"/usr/local/lib/python3.8/dist-packages/tensorflow/python/data/ops/dataset_ops.py\", line 1030, in generator_py_func\n    values = next(generator_state.get_iterator(iterator_id))\n\n  File \"/usr/local/lib/python3.8/dist-packages/keras/engine/data_adapter.py\", line 831, in wrapped_generator\n    for data in generator_fn():\n\n  File \"/usr/local/lib/python3.8/dist-packages/keras/engine/data_adapter.py\", line 957, in generator_fn\n    yield x[i]\n\n  File \"/usr/local/lib/python3.8/dist-packages/keras/preprocessing/image.py\", line 110, in __getitem__\n    return self._get_batches_of_transformed_samples(index_array)\n\n  File \"/usr/local/lib/python3.8/dist-packages/keras/preprocessing/image.py\", line 337, in _get_batches_of_transformed_samples\n    img = image_utils.load_img(\n\n  File \"/usr/local/lib/python3.8/dist-packages/keras/utils/image_utils.py\", line 443, in load_img\n    img = img.resize(width_height_tuple, resample)\n\n  File \"/usr/local/lib/python3.8/dist-packages/PIL/Image.py\", line 1886, in resize\n    self.load()\n\n  File \"/usr/local/lib/python3.8/dist-packages/PIL/ImageFile.py\", line 245, in load\n    raise OSError(\n\nOSError: image file is truncated (150 bytes not processed)\n\n\n\t [[{{node PyFunc}}]]\n\t [[IteratorGetNext]] [Op:__inference_train_function_8380]"
          ]
        }
      ]
    },
    {
      "cell_type": "code",
      "source": [
        "model.fit(train_data_gen, epochs=10, validatio n_data=valid_data_gen,validation_steps=1)"
      ],
      "metadata": {
        "id": "kT8tY0mP4wFU"
      },
      "execution_count": null,
      "outputs": []
    },
    {
      "cell_type": "code",
      "source": [],
      "metadata": {
        "id": "MdbbuEV16wIG"
      },
      "execution_count": null,
      "outputs": []
    }
  ],
  "metadata": {
    "colab": {
      "provenance": []
    },
    "kernelspec": {
      "display_name": "Python 3",
      "name": "python3"
    },
    "language_info": {
      "name": "python"
    }
  },
  "nbformat": 4,
  "nbformat_minor": 0
}